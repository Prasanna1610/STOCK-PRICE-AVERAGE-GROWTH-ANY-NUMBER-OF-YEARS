{
 "cells": [
  {
   "cell_type": "code",
   "execution_count": 1,
   "metadata": {},
   "outputs": [],
   "source": [
    "import pandas as pd\n",
    "import numpy as np\n",
    "from datetime import timedelta\n",
    "from datetime import datetime\n",
    "from datetime import *\n",
    "from dateutil.relativedelta import relativedelta\n",
    "import matplotlib.pyplot as plt\n",
    "import seaborn as sn\n",
    "%matplotlib inline"
   ]
  },
  {
   "cell_type": "code",
   "execution_count": 2,
   "metadata": {},
   "outputs": [
    {
     "name": "stderr",
     "output_type": "stream",
     "text": [
      "<ipython-input-2-d87805aee600>:2: FutureWarning: The pandas.datetime class is deprecated and will be removed from pandas in a future version. Import from datetime module instead.\n",
      "  mydateparser = lambda x: pd.datetime.strptime(x, \"%d-%b-%y\")\n"
     ]
    }
   ],
   "source": [
    "# Reading data from csv while parsing date column as datetime and index\n",
    "mydateparser = lambda x: pd.datetime.strptime(x, \"%d-%b-%y\")\n",
    "stockData_df = pd.read_csv('spx.csv', infer_datetime_format=True, \\\n",
    "                          parse_dates=['date'], date_parser=mydateparser, index_col =\"date\")"
   ]
  },
  {
   "cell_type": "code",
   "execution_count": 3,
   "metadata": {},
   "outputs": [
    {
     "data": {
      "text/html": [
       "<div>\n",
       "<style scoped>\n",
       "    .dataframe tbody tr th:only-of-type {\n",
       "        vertical-align: middle;\n",
       "    }\n",
       "\n",
       "    .dataframe tbody tr th {\n",
       "        vertical-align: top;\n",
       "    }\n",
       "\n",
       "    .dataframe thead th {\n",
       "        text-align: right;\n",
       "    }\n",
       "</style>\n",
       "<table border=\"1\" class=\"dataframe\">\n",
       "  <thead>\n",
       "    <tr style=\"text-align: right;\">\n",
       "      <th></th>\n",
       "      <th>close</th>\n",
       "    </tr>\n",
       "    <tr>\n",
       "      <th>date</th>\n",
       "      <th></th>\n",
       "    </tr>\n",
       "  </thead>\n",
       "  <tbody>\n",
       "    <tr>\n",
       "      <th>1991-07-26</th>\n",
       "      <td>380.93</td>\n",
       "    </tr>\n",
       "    <tr>\n",
       "      <th>1998-08-19</th>\n",
       "      <td>1098.06</td>\n",
       "    </tr>\n",
       "    <tr>\n",
       "      <th>2010-01-14</th>\n",
       "      <td>1148.46</td>\n",
       "    </tr>\n",
       "    <tr>\n",
       "      <th>2010-05-27</th>\n",
       "      <td>1103.06</td>\n",
       "    </tr>\n",
       "    <tr>\n",
       "      <th>1999-03-10</th>\n",
       "      <td>1286.84</td>\n",
       "    </tr>\n",
       "  </tbody>\n",
       "</table>\n",
       "</div>"
      ],
      "text/plain": [
       "              close\n",
       "date               \n",
       "1991-07-26   380.93\n",
       "1998-08-19  1098.06\n",
       "2010-01-14  1148.46\n",
       "2010-05-27  1103.06\n",
       "1999-03-10  1286.84"
      ]
     },
     "execution_count": 3,
     "metadata": {},
     "output_type": "execute_result"
    }
   ],
   "source": [
    "stockData_df.sample(5)"
   ]
  },
  {
   "cell_type": "code",
   "execution_count": 4,
   "metadata": {},
   "outputs": [
    {
     "name": "stdout",
     "output_type": "stream",
     "text": [
      "close    209.59\n",
      "Name: 1986-01-02 00:00:00, dtype: float64\n",
      "close    2718.37\n",
      "Name: 2018-06-29 00:00:00, dtype: float64\n"
     ]
    }
   ],
   "source": [
    "print(stockData_df.iloc[0])\n",
    "print(stockData_df.iloc[-1])"
   ]
  },
  {
   "cell_type": "code",
   "execution_count": 5,
   "metadata": {},
   "outputs": [],
   "source": [
    "# Taking latest complete one year data to ease coding\n",
    "stockData_2017_df = stockData_df[(stockData_df.index.year == 2017)]"
   ]
  },
  {
   "cell_type": "code",
   "execution_count": 6,
   "metadata": {},
   "outputs": [
    {
     "name": "stdout",
     "output_type": "stream",
     "text": [
      "(251, 1)\n",
      "              close\n",
      "date               \n",
      "2017-01-03  2257.83\n",
      "2017-01-04  2270.75\n",
      "2017-01-05  2269.00\n",
      "2017-01-06  2276.98\n",
      "2017-01-09  2268.90\n",
      "...             ...\n",
      "2017-12-22  2683.34\n",
      "2017-12-26  2680.50\n",
      "2017-12-27  2682.62\n",
      "2017-12-28  2687.54\n",
      "2017-12-29  2673.61\n",
      "\n",
      "[251 rows x 1 columns]\n"
     ]
    }
   ],
   "source": [
    "print(stockData_2017_df.shape)\n",
    "print(stockData_2017_df)"
   ]
  },
  {
   "cell_type": "code",
   "execution_count": 7,
   "metadata": {},
   "outputs": [
    {
     "name": "stdout",
     "output_type": "stream",
     "text": [
      "2017-03-03 00:00:00\n"
     ]
    }
   ],
   "source": [
    "given_date = stockData_2017_df.index[0] + relativedelta(months=2)\n",
    "print(given_date)"
   ]
  },
  {
   "cell_type": "code",
   "execution_count": 8,
   "metadata": {},
   "outputs": [],
   "source": [
    "#Check if the date is in dataframe or not\n",
    "def Get_Valid_Date(given_date,df):\n",
    "    if given_date>df.index[-1]:\n",
    "        return df.index[-1].date()\n",
    "    elif given_date<df.index[0]:\n",
    "        return df.index[0].date()\n",
    "    elif given_date in df.index:\n",
    "        return given_date.date()\n",
    "    else:\n",
    "        reduced_date = given_date - timedelta(days=1)\n",
    "        return Get_Valid_Date(reduced_date,df)"
   ]
  },
  {
   "cell_type": "code",
   "execution_count": 9,
   "metadata": {},
   "outputs": [
    {
     "name": "stdout",
     "output_type": "stream",
     "text": [
      "2017-03-03 00:00:00\n"
     ]
    },
    {
     "data": {
      "text/plain": [
       "datetime.date(2017, 3, 3)"
      ]
     },
     "execution_count": 9,
     "metadata": {},
     "output_type": "execute_result"
    }
   ],
   "source": [
    "print(given_date)\n",
    "checked_date=Get_Valid_Date(given_date,stockData_2017_df)\n",
    "checked_date"
   ]
  },
  {
   "cell_type": "code",
   "execution_count": 10,
   "metadata": {},
   "outputs": [],
   "source": [
    "# Get closing value for the given date \n",
    "def Get_closing_Value(given_date,df):\n",
    "    valid_date = str(Get_Valid_Date(given_date,df))\n",
    "    day_close=df.loc[valid_date,[\"close\"]]\n",
    "    return day_close"
   ]
  },
  {
   "cell_type": "code",
   "execution_count": 11,
   "metadata": {},
   "outputs": [
    {
     "data": {
      "text/plain": [
       "close    2383.12\n",
       "Name: 2017-03-03 00:00:00, dtype: float64"
      ]
     },
     "execution_count": 11,
     "metadata": {},
     "output_type": "execute_result"
    }
   ],
   "source": [
    "Get_closing_Value(given_date,stockData_2017_df)"
   ]
  },
  {
   "cell_type": "code",
   "execution_count": 12,
   "metadata": {},
   "outputs": [],
   "source": [
    "# Calculate percentage growth when given date and dataframe\n",
    "def Cal_per_growth(given_date, df):\n",
    "    final_close=df.iloc[-1]\n",
    "    #print(final_close)\n",
    "    d_close=Get_closing_Value(given_date,df)\n",
    "    return ((final_close-d_close)/d_close)*100 "
   ]
  },
  {
   "cell_type": "code",
   "execution_count": 13,
   "metadata": {},
   "outputs": [
    {
     "data": {
      "text/plain": [
       "close    12.189483\n",
       "dtype: float64"
      ]
     },
     "execution_count": 13,
     "metadata": {},
     "output_type": "execute_result"
    }
   ],
   "source": [
    "Cal_per_growth(given_date,stockData_2017_df)"
   ]
  },
  {
   "cell_type": "code",
   "execution_count": 14,
   "metadata": {},
   "outputs": [],
   "source": [
    "def months_count(d1, d2):\n",
    "    return (d1.year - d2.year) * 12 + d1.month - d2.month + 1"
   ]
  },
  {
   "cell_type": "code",
   "execution_count": 15,
   "metadata": {},
   "outputs": [],
   "source": [
    "def date_range(day_of_month, df):\n",
    "    number_of_months = months_count(df.index[-1],df.index[0])\n",
    "    #print(number_of_months)\n",
    "    if day_of_month < df.index[0].day:\n",
    "        first_date = datetime(int(df.index[0].year),int(df.index[0].month)+1,int(day_of_month))\n",
    "        number_of_months -= 1\n",
    "    else:\n",
    "        first_date = datetime(int(df.index[0].year),int(df.index[0].month),int(day_of_month))\n",
    "    \n",
    "    if day_of_month > df.index[-1].day:\n",
    "        number_of_months -= 1\n",
    "        \n",
    "    return [first_date + relativedelta(months=idx) for idx in range(number_of_months)]"
   ]
  },
  {
   "cell_type": "code",
   "execution_count": 16,
   "metadata": {},
   "outputs": [
    {
     "data": {
      "text/plain": [
       "[datetime.datetime(2017, 1, 30, 0, 0),\n",
       " datetime.datetime(2017, 2, 28, 0, 0),\n",
       " datetime.datetime(2017, 3, 30, 0, 0),\n",
       " datetime.datetime(2017, 4, 30, 0, 0),\n",
       " datetime.datetime(2017, 5, 30, 0, 0),\n",
       " datetime.datetime(2017, 6, 30, 0, 0),\n",
       " datetime.datetime(2017, 7, 30, 0, 0),\n",
       " datetime.datetime(2017, 8, 30, 0, 0),\n",
       " datetime.datetime(2017, 9, 30, 0, 0),\n",
       " datetime.datetime(2017, 10, 30, 0, 0),\n",
       " datetime.datetime(2017, 11, 30, 0, 0)]"
      ]
     },
     "execution_count": 16,
     "metadata": {},
     "output_type": "execute_result"
    }
   ],
   "source": [
    "date_range(30,stockData_2017_df)"
   ]
  },
  {
   "cell_type": "code",
   "execution_count": 17,
   "metadata": {},
   "outputs": [],
   "source": [
    "# Calculate average growth of a given day of the month in the give dataframe\n",
    "def Cal_avg_growth(day_of_month, df):\n",
    "    growth=0\n",
    "    count=0\n",
    "    for date in date_range(day_of_month,df):\n",
    "        growth += Cal_per_growth(date,df)\n",
    "        count += 1\n",
    "            \n",
    "    avg_percent_growth=growth/count\n",
    "    \n",
    "    return avg_percent_growth"
   ]
  },
  {
   "cell_type": "code",
   "execution_count": 18,
   "metadata": {},
   "outputs": [
    {
     "data": {
      "text/plain": [
       "close    9.496895\n",
       "dtype: float64"
      ]
     },
     "execution_count": 18,
     "metadata": {},
     "output_type": "execute_result"
    }
   ],
   "source": [
    "Cal_avg_growth(30,stockData_2017_df)"
   ]
  },
  {
   "cell_type": "code",
   "execution_count": 19,
   "metadata": {},
   "outputs": [],
   "source": [
    "#Calculate average growth of all the days of the month in the give dataframe\n",
    "def Cal_avg_growth_allDays(df):\n",
    "    final= pd.DataFrame({'day': [1,2,3,4,5,6,7,8,9,10,11,12,13,14,15,16,17,18,19,20,21,22,23,24,25,26,27,28,29,30,31]})\n",
    "    final.set_index('day')\n",
    "    result=[]\n",
    "    for i in range(1,32):\n",
    "        result.append(Cal_avg_growth(i, df))\n",
    "    final[\"Average Growth\"]=result\n",
    "    return final"
   ]
  },
  {
   "cell_type": "code",
   "execution_count": 20,
   "metadata": {},
   "outputs": [
    {
     "data": {
      "text/html": [
       "<div>\n",
       "<style scoped>\n",
       "    .dataframe tbody tr th:only-of-type {\n",
       "        vertical-align: middle;\n",
       "    }\n",
       "\n",
       "    .dataframe tbody tr th {\n",
       "        vertical-align: top;\n",
       "    }\n",
       "\n",
       "    .dataframe thead th {\n",
       "        text-align: right;\n",
       "    }\n",
       "</style>\n",
       "<table border=\"1\" class=\"dataframe\">\n",
       "  <thead>\n",
       "    <tr style=\"text-align: right;\">\n",
       "      <th></th>\n",
       "      <th>day</th>\n",
       "      <th>Average Growth</th>\n",
       "    </tr>\n",
       "  </thead>\n",
       "  <tbody>\n",
       "    <tr>\n",
       "      <th>0</th>\n",
       "      <td>1</td>\n",
       "      <td>close    292.378119\n",
       "dtype: float64</td>\n",
       "    </tr>\n",
       "    <tr>\n",
       "      <th>1</th>\n",
       "      <td>2</td>\n",
       "      <td>close    294.250776\n",
       "dtype: float64</td>\n",
       "    </tr>\n",
       "    <tr>\n",
       "      <th>2</th>\n",
       "      <td>3</td>\n",
       "      <td>close    294.26732\n",
       "dtype: float64</td>\n",
       "    </tr>\n",
       "    <tr>\n",
       "      <th>3</th>\n",
       "      <td>4</td>\n",
       "      <td>close    294.314572\n",
       "dtype: float64</td>\n",
       "    </tr>\n",
       "    <tr>\n",
       "      <th>4</th>\n",
       "      <td>5</td>\n",
       "      <td>close    293.920868\n",
       "dtype: float64</td>\n",
       "    </tr>\n",
       "    <tr>\n",
       "      <th>5</th>\n",
       "      <td>6</td>\n",
       "      <td>close    293.947527\n",
       "dtype: float64</td>\n",
       "    </tr>\n",
       "    <tr>\n",
       "      <th>6</th>\n",
       "      <td>7</td>\n",
       "      <td>close    294.077802\n",
       "dtype: float64</td>\n",
       "    </tr>\n",
       "    <tr>\n",
       "      <th>7</th>\n",
       "      <td>8</td>\n",
       "      <td>close    293.945627\n",
       "dtype: float64</td>\n",
       "    </tr>\n",
       "    <tr>\n",
       "      <th>8</th>\n",
       "      <td>9</td>\n",
       "      <td>close    294.580902\n",
       "dtype: float64</td>\n",
       "    </tr>\n",
       "    <tr>\n",
       "      <th>9</th>\n",
       "      <td>10</td>\n",
       "      <td>close    294.606243\n",
       "dtype: float64</td>\n",
       "    </tr>\n",
       "    <tr>\n",
       "      <th>10</th>\n",
       "      <td>11</td>\n",
       "      <td>close    294.404416\n",
       "dtype: float64</td>\n",
       "    </tr>\n",
       "    <tr>\n",
       "      <th>11</th>\n",
       "      <td>12</td>\n",
       "      <td>close    294.079792\n",
       "dtype: float64</td>\n",
       "    </tr>\n",
       "    <tr>\n",
       "      <th>12</th>\n",
       "      <td>13</td>\n",
       "      <td>close    293.834273\n",
       "dtype: float64</td>\n",
       "    </tr>\n",
       "    <tr>\n",
       "      <th>13</th>\n",
       "      <td>14</td>\n",
       "      <td>close    293.586689\n",
       "dtype: float64</td>\n",
       "    </tr>\n",
       "    <tr>\n",
       "      <th>14</th>\n",
       "      <td>15</td>\n",
       "      <td>close    293.561121\n",
       "dtype: float64</td>\n",
       "    </tr>\n",
       "    <tr>\n",
       "      <th>15</th>\n",
       "      <td>16</td>\n",
       "      <td>close    293.006609\n",
       "dtype: float64</td>\n",
       "    </tr>\n",
       "    <tr>\n",
       "      <th>16</th>\n",
       "      <td>17</td>\n",
       "      <td>close    293.128322\n",
       "dtype: float64</td>\n",
       "    </tr>\n",
       "    <tr>\n",
       "      <th>17</th>\n",
       "      <td>18</td>\n",
       "      <td>close    292.795158\n",
       "dtype: float64</td>\n",
       "    </tr>\n",
       "    <tr>\n",
       "      <th>18</th>\n",
       "      <td>19</td>\n",
       "      <td>close    293.624622\n",
       "dtype: float64</td>\n",
       "    </tr>\n",
       "    <tr>\n",
       "      <th>19</th>\n",
       "      <td>20</td>\n",
       "      <td>close    293.766484\n",
       "dtype: float64</td>\n",
       "    </tr>\n",
       "    <tr>\n",
       "      <th>20</th>\n",
       "      <td>21</td>\n",
       "      <td>close    293.406655\n",
       "dtype: float64</td>\n",
       "    </tr>\n",
       "    <tr>\n",
       "      <th>21</th>\n",
       "      <td>22</td>\n",
       "      <td>close    293.524649\n",
       "dtype: float64</td>\n",
       "    </tr>\n",
       "    <tr>\n",
       "      <th>22</th>\n",
       "      <td>23</td>\n",
       "      <td>close    293.681992\n",
       "dtype: float64</td>\n",
       "    </tr>\n",
       "    <tr>\n",
       "      <th>23</th>\n",
       "      <td>24</td>\n",
       "      <td>close    293.641279\n",
       "dtype: float64</td>\n",
       "    </tr>\n",
       "    <tr>\n",
       "      <th>24</th>\n",
       "      <td>25</td>\n",
       "      <td>close    293.595546\n",
       "dtype: float64</td>\n",
       "    </tr>\n",
       "    <tr>\n",
       "      <th>25</th>\n",
       "      <td>26</td>\n",
       "      <td>close    293.49593\n",
       "dtype: float64</td>\n",
       "    </tr>\n",
       "    <tr>\n",
       "      <th>26</th>\n",
       "      <td>27</td>\n",
       "      <td>close    293.402243\n",
       "dtype: float64</td>\n",
       "    </tr>\n",
       "    <tr>\n",
       "      <th>27</th>\n",
       "      <td>28</td>\n",
       "      <td>close    292.853537\n",
       "dtype: float64</td>\n",
       "    </tr>\n",
       "    <tr>\n",
       "      <th>28</th>\n",
       "      <td>29</td>\n",
       "      <td>close    292.42846\n",
       "dtype: float64</td>\n",
       "    </tr>\n",
       "    <tr>\n",
       "      <th>29</th>\n",
       "      <td>30</td>\n",
       "      <td>close    293.158894\n",
       "dtype: float64</td>\n",
       "    </tr>\n",
       "    <tr>\n",
       "      <th>30</th>\n",
       "      <td>31</td>\n",
       "      <td>close    292.76968\n",
       "dtype: float64</td>\n",
       "    </tr>\n",
       "  </tbody>\n",
       "</table>\n",
       "</div>"
      ],
      "text/plain": [
       "    day                      Average Growth\n",
       "0     1  close    292.378119\n",
       "dtype: float64\n",
       "1     2  close    294.250776\n",
       "dtype: float64\n",
       "2     3   close    294.26732\n",
       "dtype: float64\n",
       "3     4  close    294.314572\n",
       "dtype: float64\n",
       "4     5  close    293.920868\n",
       "dtype: float64\n",
       "5     6  close    293.947527\n",
       "dtype: float64\n",
       "6     7  close    294.077802\n",
       "dtype: float64\n",
       "7     8  close    293.945627\n",
       "dtype: float64\n",
       "8     9  close    294.580902\n",
       "dtype: float64\n",
       "9    10  close    294.606243\n",
       "dtype: float64\n",
       "10   11  close    294.404416\n",
       "dtype: float64\n",
       "11   12  close    294.079792\n",
       "dtype: float64\n",
       "12   13  close    293.834273\n",
       "dtype: float64\n",
       "13   14  close    293.586689\n",
       "dtype: float64\n",
       "14   15  close    293.561121\n",
       "dtype: float64\n",
       "15   16  close    293.006609\n",
       "dtype: float64\n",
       "16   17  close    293.128322\n",
       "dtype: float64\n",
       "17   18  close    292.795158\n",
       "dtype: float64\n",
       "18   19  close    293.624622\n",
       "dtype: float64\n",
       "19   20  close    293.766484\n",
       "dtype: float64\n",
       "20   21  close    293.406655\n",
       "dtype: float64\n",
       "21   22  close    293.524649\n",
       "dtype: float64\n",
       "22   23  close    293.681992\n",
       "dtype: float64\n",
       "23   24  close    293.641279\n",
       "dtype: float64\n",
       "24   25  close    293.595546\n",
       "dtype: float64\n",
       "25   26   close    293.49593\n",
       "dtype: float64\n",
       "26   27  close    293.402243\n",
       "dtype: float64\n",
       "27   28  close    292.853537\n",
       "dtype: float64\n",
       "28   29   close    292.42846\n",
       "dtype: float64\n",
       "29   30  close    293.158894\n",
       "dtype: float64\n",
       "30   31   close    292.76968\n",
       "dtype: float64"
      ]
     },
     "execution_count": 20,
     "metadata": {},
     "output_type": "execute_result"
    }
   ],
   "source": [
    "Result_table = Cal_avg_growth_allDays(stockData_df)\n",
    "Result_table"
   ]
  },
  {
   "cell_type": "code",
   "execution_count": 21,
   "metadata": {},
   "outputs": [
    {
     "data": {
      "image/png": "[encoded data removed]",
      "text/plain": [
       "<Figure size 432x288 with 1 Axes>"
      ]
     },
     "metadata": {
      "needs_background": "light"
     },
     "output_type": "display_data"
    },
    {
     "data": {
      "image/png": "[encoded data removed]",
      "text/plain": [
       "<Figure size 432x288 with 1 Axes>"
      ]
     },
     "metadata": {
      "needs_background": "light"
     },
     "output_type": "display_data"
    }
   ],
   "source": [
    "x=Result_table[\"day\"]\n",
    "y=Result_table[\"Average Growth\"]\n",
    "plt.plot(x, y)\n",
    "plt.xlabel('DAY')\n",
    "plt.ylabel('AVERAGE GROWTH')\n",
    "plt.title('AVERAGE GROWTH FOR EACH DAY')\n",
    "plt.show()\n",
    "plt.scatter(x, y, label= \"stars\", color= \"green\", marker= \"*\", s=31)\n",
    "plt.xlabel('DAY')\n",
    "plt.ylabel('AVERAGE GROWTH')\n",
    "plt.title('AVERAGE GROWTH FOR EACH DAY')\n",
    "plt.legend()\n",
    "plt.show()"
   ]
  },
  {
   "cell_type": "code",
   "execution_count": null,
   "metadata": {},
   "outputs": [],
   "source": []
  }
 ],
 "metadata": {
  "kernelspec": {
   "display_name": "Python 3",
   "language": "python",
   "name": "python3"
  },
  "language_info": {
   "codemirror_mode": {
    "name": "ipython",
    "version": 3
   },
   "file_extension": ".py",
   "mimetype": "text/x-python",
   "name": "python",
   "nbconvert_exporter": "python",
   "pygments_lexer": "ipython3",
   "version": "3.8.3"
  }
 },
 "nbformat": 4,
 "nbformat_minor": 5
}
